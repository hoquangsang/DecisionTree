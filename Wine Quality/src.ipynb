{
 "cells": [
  {
   "cell_type": "markdown",
   "metadata": {},
   "source": [
    "# Wine Quality"
   ]
  },
  {
   "cell_type": "markdown",
   "metadata": {},
   "source": [
    "## I. Chuẩn bị dữ liệu"
   ]
  },
  {
   "cell_type": "code",
   "execution_count": 76,
   "metadata": {},
   "outputs": [],
   "source": [
    "# Import các thư viện cần thiết\n",
    "import os\n",
    "import config as CONFIG\n",
    "import pandas as pd\n",
    "import numpy as np\n",
    "from sklearn.model_selection import train_test_split\n",
    "from sklearn.utils import shuffle\n",
    "import seaborn as sns\n",
    "import matplotlib.pyplot as plt\n",
    "from sklearn.preprocessing import LabelEncoder"
   ]
  },
  {
   "cell_type": "markdown",
   "metadata": {},
   "source": [
    "#### 1. Lấy dữ liệu và xử lí thô"
   ]
  },
  {
   "cell_type": "code",
   "execution_count": 77,
   "metadata": {},
   "outputs": [],
   "source": [
    "# Đọc dữ liệu rượu trắng\n",
    "data_white = pd.read_csv(CONFIG.RAW_DATA_PATH_WHITE, delimiter=';')\n",
    "#(R) data_white['wine_type'] = 'white'  # Thêm cột phân loại loại rượu\n",
    "\n",
    "# Đọc dữ liệu rượu đỏ\n",
    "#data_red = pd.read_csv(CONFIG.RAW_DATA_PATH_RED, delimiter=';')\n",
    "#(R) data_red['wine_type'] = 'red'  # Thêm cột phân loại loại rượu\n",
    "\n",
    "# Ghép hai dữ liệu\n",
    "data = data_white # pd.concat([data_white, data_red], axis=0, ignore_index=True)\n",
    "\n",
    "# Thêm cột \"Quality_Category\" để nhóm chất lượng\n",
    "# 0-4: Chất lượng thấp, 5-6: Tiêu chuẩn, 7-10: Chất lượng cao\n",
    "data['Quality_Category'] = pd.cut(\n",
    "    data['quality'],\n",
    "    bins=[-1, 4, 6, 10],\n",
    "    labels=['Low', 'Standard', 'High']\n",
    ")"
   ]
  },
  {
   "cell_type": "markdown",
   "metadata": {},
   "source": [
    "- Kiểm tra dữ liệu"
   ]
  },
  {
   "cell_type": "code",
   "execution_count": null,
   "metadata": {},
   "outputs": [],
   "source": [
    "# Kiểm tra thông tin dữ liệu\n",
    "print(data.info())\n",
    "# Kiểm tra sơ bộ\n",
    "print(data.head())\n",
    "# Kiểm tra giá trị duy nhất trong nhãn:\n",
    "print(data['Quality_Category'].value_counts())\n",
    "# Kiểm tra thống kê dữ liệu:\n",
    "print(data.describe())"
   ]
  },
  {
   "cell_type": "markdown",
   "metadata": {},
   "source": [
    "#### 2. Tiền xử lý dữ liệu"
   ]
  },
  {
   "cell_type": "markdown",
   "metadata": {},
   "source": [
    "- Mã hóa 'wine_type' thành giá trị số "
   ]
  },
  {
   "cell_type": "code",
   "execution_count": 79,
   "metadata": {},
   "outputs": [],
   "source": [
    "# # -> có thể bỏ bước này, coi như dữ liệu không có phân loại rượu\n",
    "#(R) encoder = LabelEncoder()\n",
    "#(R) data['wine_type'] = encoder.fit_transform(data['wine_type'])"
   ]
  },
  {
   "cell_type": "markdown",
   "metadata": {},
   "source": [
    "- Loại bỏ cột \"quality\" (không cần thiết)"
   ]
  },
  {
   "cell_type": "code",
   "execution_count": 80,
   "metadata": {},
   "outputs": [],
   "source": [
    "data = data.drop(columns=['quality'])"
   ]
  },
  {
   "cell_type": "markdown",
   "metadata": {},
   "source": [
    "- Xáo trộn dữ liệu"
   ]
  },
  {
   "cell_type": "code",
   "execution_count": 81,
   "metadata": {},
   "outputs": [],
   "source": [
    "rand_value = CONFIG.RANDOM_STATE\n",
    "data = shuffle(data, random_state=rand_value)"
   ]
  },
  {
   "cell_type": "markdown",
   "metadata": {},
   "source": [
    "- Phân loại"
   ]
  },
  {
   "cell_type": "code",
   "execution_count": 82,
   "metadata": {},
   "outputs": [],
   "source": [
    "X = data.drop(columns=['Quality_Category'])\n",
    "\n",
    "y = data['Quality_Category']\n",
    "\n",
    "# Chuyển đổi nhãn thành số\n",
    "encoder = LabelEncoder()\n",
    "y = encoder.fit_transform(y)"
   ]
  },
  {
   "cell_type": "markdown",
   "metadata": {},
   "source": [
    "#### 3. Phân chia dữ liệu với các tỷ lệ khác nhau"
   ]
  },
  {
   "cell_type": "code",
   "execution_count": 83,
   "metadata": {},
   "outputs": [],
   "source": [
    "splits = CONFIG.SPLIT_RATIOS\n",
    "datasets = {}"
   ]
  },
  {
   "cell_type": "code",
   "execution_count": 84,
   "metadata": {},
   "outputs": [],
   "source": [
    "for split_name, train_ratio in splits.items():\n",
    "    X_train, X_test, y_train, y_test = train_test_split(\n",
    "        X, y, train_size=train_ratio, stratify=y, random_state=rand_value\n",
    "    )\n",
    "    datasets[split_name] = {\n",
    "        'feature_train': X_train,\n",
    "        'label_train': y_train,\n",
    "        'feature_test': X_test,\n",
    "        'label_test': y_test,\n",
    "    }"
   ]
  },
  {
   "cell_type": "markdown",
   "metadata": {},
   "source": [
    "#### 4. Lưu dữ liệu vào CSV"
   ]
  },
  {
   "cell_type": "code",
   "execution_count": 85,
   "metadata": {},
   "outputs": [],
   "source": [
    "# Tạo thư mục cha chứa các file path\n",
    "dir_path = CONFIG.PROCESSED_CSV_DIR\n",
    "os.makedirs(dir_path, exist_ok=True)\n",
    "\n",
    "# Tạo các thư mục chính chứa file path\n",
    "for split_name in splits.keys():\n",
    "    os.makedirs(\n",
    "        os.path.join(dir_path, split_name.replace('/', '_')), exist_ok=True\n",
    "        )"
   ]
  },
  {
   "cell_type": "code",
   "execution_count": null,
   "metadata": {},
   "outputs": [],
   "source": [
    "try:\n",
    "    # Lặp qua các phân chia trong datasets\n",
    "    for split_name, dataset in datasets.items():\n",
    "        # Đảm bảo rằng split_name là hợp lệ trong splits\n",
    "        if split_name in splits:\n",
    "            split_dir = os.path.join(dir_path, split_name.replace('/', '_'))\n",
    "            \n",
    "            # Lưu các dữ liệu vào các file CSV\n",
    "            dataset['feature_train'].to_csv(os.path.join(split_dir, \"train_features.csv\"), index=False)\n",
    "            pd.DataFrame(dataset['label_train']).to_csv(os.path.join(split_dir, \"train_labels.csv\"), index=False)\n",
    "            dataset['feature_test'].to_csv(os.path.join(split_dir, \"test_features.csv\"), index=False)\n",
    "            pd.DataFrame(dataset['label_test']).to_csv(os.path.join(split_dir, \"test_labels.csv\"), index=False)\n",
    "\n",
    "    print(\"Lưu dữ liệu thành công!\")\n",
    "\n",
    "except Exception as e:\n",
    "    print(f\"Không thể lưu dữ liệu! Lỗi: {e}\")"
   ]
  },
  {
   "cell_type": "markdown",
   "metadata": {},
   "source": [
    "#### 5. Hình dung phân phối nhãn"
   ]
  },
  {
   "cell_type": "code",
   "execution_count": 87,
   "metadata": {},
   "outputs": [],
   "source": [
    "order = encoder.classes_\n",
    "def plot_label_distribution(y, title):\n",
    "    y_decoded = encoder.inverse_transform(y)\n",
    "    sns.countplot(x=y_decoded,order=order)\n",
    "    plt.title(title)\n",
    "    plt.xlabel('Label')\n",
    "    plt.ylabel('Count')\n",
    "    plt.show()"
   ]
  },
  {
   "cell_type": "markdown",
   "metadata": {},
   "source": [
    "- Phân phối dữ liệu gốc"
   ]
  },
  {
   "cell_type": "code",
   "execution_count": null,
   "metadata": {},
   "outputs": [],
   "source": [
    "plot_label_distribution(y, 'Original Dataset')"
   ]
  },
  {
   "cell_type": "markdown",
   "metadata": {},
   "source": [
    "- Phân phối các tập con"
   ]
  },
  {
   "cell_type": "code",
   "execution_count": null,
   "metadata": {},
   "outputs": [],
   "source": [
    "for split_name, dataset in datasets.items():\n",
    "    plot_label_distribution(dataset['label_train'], f'Train Dataset ({split_name})')\n",
    "    plot_label_distribution(dataset['label_test'], f'Test Dataset ({split_name})')"
   ]
  },
  {
   "cell_type": "markdown",
   "metadata": {},
   "source": [
    "## 2.2 Xây dựng bộ phân loạii"
   ]
  },
  {
   "cell_type": "code",
   "execution_count": 90,
   "metadata": {},
   "outputs": [],
   "source": [
    "from sklearn.tree import DecisionTreeClassifier, export_graphviz\n",
    "from sklearn.metrics import classification_report, accuracy_score\n",
    "import graphviz"
   ]
  },
  {
   "cell_type": "markdown",
   "metadata": {},
   "source": [
    "- Hàm huấn luyện và trực quan hóa cây quyết định"
   ]
  },
  {
   "cell_type": "code",
   "execution_count": 91,
   "metadata": {},
   "outputs": [],
   "source": [
    "dir_path = CONFIG.RESULTS_BASE_TREE_DIR\n",
    "\n",
    "def train_and_visualize(features_train, labels_train, features_test, labels_test, split_name):\n",
    "    # Huấn luyện cây quyết định\n",
    "    model = DecisionTreeClassifier(criterion='entropy', random_state=rand_value)\n",
    "    model.fit(features_train, labels_train)\n",
    "    \n",
    "    # Dự đoán trên tập kiểm tra\n",
    "    predictions = model.predict(features_test)\n",
    "    \n",
    "    # Đánh giá hiệu suất mô hình\n",
    "    labels_test_decoded = encoder.inverse_transform(labels_test)\n",
    "    predictions_decoded = encoder.inverse_transform(predictions)\n",
    "\n",
    "    print(f\"Results for split {split_name}\")\n",
    "    print(\"- Classification Report:\")\n",
    "    print(classification_report(labels_test_decoded, predictions_decoded))\n",
    "\n",
    "    accuracy = accuracy_score(labels_test, predictions)\n",
    "    print(f\"Accuracy: {accuracy:.6f}\\n\")\n",
    "\n",
    "    # Trực quan hóa cây quyết định\n",
    "    dot_data = export_graphviz(\n",
    "        model,\n",
    "        out_file=None,\n",
    "        feature_names=features_train.columns,\n",
    "        class_names=encoder.classes_,\n",
    "        filled=True,\n",
    "        rounded=True,\n",
    "        special_characters=True\n",
    "    )\n",
    "    graph = graphviz.Source(dot_data)\n",
    "    filepath = f\"{dir_path}/{split_name.replace('/', '_')}/graph\"\n",
    "    graph.render(filepath, format=\"pdf\")\n",
    "    # graph.view()  # Mở cây trực tiếp\n",
    "    # display(graph)\n",
    "    print(f\"- Saved tree visualization for {split_name}\")\n",
    "    print(\"------------------------------------------\\n\")"
   ]
  },
  {
   "cell_type": "markdown",
   "metadata": {},
   "source": [
    "- Huấn luyện và trực quan hóa với từng tập con"
   ]
  },
  {
   "cell_type": "code",
   "execution_count": null,
   "metadata": {},
   "outputs": [],
   "source": [
    "for split_name, dataset in datasets.items():\n",
    "    train_and_visualize(\n",
    "        features_train=dataset['feature_train'],\n",
    "        labels_train=dataset['label_train'],\n",
    "        features_test=dataset['feature_test'],\n",
    "        labels_test=dataset['label_test'],\n",
    "        split_name=split_name\n",
    "    )"
   ]
  },
  {
   "cell_type": "markdown",
   "metadata": {},
   "source": [
    "## 2.3 Đánh giá các bộ phân loại"
   ]
  },
  {
   "cell_type": "code",
   "execution_count": 93,
   "metadata": {},
   "outputs": [],
   "source": [
    "from sklearn.metrics import classification_report, confusion_matrix, accuracy_score"
   ]
  },
  {
   "cell_type": "markdown",
   "metadata": {},
   "source": [
    "- Hàm đánh giá mô hình và tạo báo cáo"
   ]
  },
  {
   "cell_type": "code",
   "execution_count": 94,
   "metadata": {},
   "outputs": [],
   "source": [
    "def evaluate_model(features_test, labels_test, model, split_name):\n",
    "    # Dự đoán trên tập kiểm tra\n",
    "    predictions = model.predict(features_test)\n",
    "    \n",
    "     # Chuyển ngược về nhãn\n",
    "    labels_test_decoded = encoder.inverse_transform(labels_test)\n",
    "    predictions_decoded = encoder.inverse_transform(predictions)\n",
    "\n",
    "    # Classification Report\n",
    "    print(\"------------------------------------------\\n\")\n",
    "    print(f\"- Classification Report for split {split_name}\")\n",
    "    print(classification_report(labels_test_decoded, predictions_decoded))\n",
    "    # print(classification_report(labels_test, predictions))\n",
    "    \n",
    "    # Confusion Matrix\n",
    "    cm = confusion_matrix(labels_test, predictions)\n",
    "    print(f\"- Confusion Matrix for split {split_name}:\\n{cm}\")\n",
    "    \n",
    "    # Trực quan hóa ma trận nhầm lẫn\n",
    "    plt.figure(figsize=(6, 4))\n",
    "    sns.heatmap(cm, annot=True, fmt='d', cmap='Reds', xticklabels=encoder.classes_, yticklabels=encoder.classes_)\n",
    "    plt.title(f\"Confusion Matrix for {split_name}\")\n",
    "    plt.xlabel('Predicted')\n",
    "    plt.ylabel('Actual')\n",
    "    plt.show()\n",
    "\n",
    "    # Trả về mô hình và độ chính xác\n",
    "    accuracy = accuracy_score(labels_test, predictions)\n",
    "    return accuracy"
   ]
  },
  {
   "cell_type": "markdown",
   "metadata": {},
   "source": [
    "- Lặp qua từng tập con để huấn luyện, đánh giá, và lưu kết quả"
   ]
  },
  {
   "cell_type": "code",
   "execution_count": null,
   "metadata": {},
   "outputs": [],
   "source": [
    "results = {}\n",
    "for split_name, dataset in datasets.items():\n",
    "    # Huấn luyện mô hình\n",
    "    model = DecisionTreeClassifier(criterion='entropy', random_state=rand_value)\n",
    "    model.fit(dataset['feature_train'], dataset['label_train'])\n",
    "    \n",
    "    # Đánh giá mô hình\n",
    "    accuracy = evaluate_model(\n",
    "        features_test=dataset['feature_test'],\n",
    "        labels_test=dataset['label_test'],\n",
    "        model=model,\n",
    "        split_name=split_name\n",
    "    )\n",
    "    \n",
    "    # Lưu kết quả\n",
    "    results[split_name] = accuracy"
   ]
  },
  {
   "cell_type": "markdown",
   "metadata": {},
   "source": [
    "- Hiển thị tổng hợp kết quả độ chính xác"
   ]
  },
  {
   "cell_type": "code",
   "execution_count": null,
   "metadata": {},
   "outputs": [],
   "source": [
    "for split_name, accuracy in results.items():\n",
    "    print(f\"Accuracy for {split_name}: {accuracy:.6f}\")"
   ]
  },
  {
   "cell_type": "markdown",
   "metadata": {},
   "source": [
    "## IV Độ sâu và độ chính xác"
   ]
  },
  {
   "cell_type": "markdown",
   "metadata": {},
   "source": [
    "- Lấy bộ dữ liệu huấn luyện và kiểm tra 80/20"
   ]
  },
  {
   "cell_type": "code",
   "execution_count": 97,
   "metadata": {},
   "outputs": [],
   "source": [
    "default_split = CONFIG.DEFAULT_SPLIT\n",
    "\n",
    "X_train = datasets[default_split]['feature_train']\n",
    "y_train = datasets[default_split]['label_train']\n",
    "X_test  = datasets[default_split]['feature_test']\n",
    "y_test  = datasets[default_split]['label_test']"
   ]
  },
  {
   "cell_type": "markdown",
   "metadata": {},
   "source": [
    "- Thử nghiệm với các giá trị max_depth khác nhau"
   ]
  },
  {
   "cell_type": "code",
   "execution_count": null,
   "metadata": {},
   "outputs": [],
   "source": [
    "accuracy_scores = {}\n",
    "max_depth_values = CONFIG.MAX_DEPTH_VALUES\n",
    "dir_path = CONFIG.RESULTS_TREE_MAX_DEPTH_DIR\n",
    "\n",
    "for max_depth in max_depth_values:\n",
    "    # Tạo và huấn luyện cây quyết định với max_depth\n",
    "    model = DecisionTreeClassifier(criterion='entropy', max_depth=max_depth, random_state=rand_value)\n",
    "    model.fit(X_train, y_train)\n",
    "    \n",
    "    # Dự đoán và tính độ chính xác\n",
    "    predictions = model.predict(X_test)\n",
    "    accuracy = accuracy_score(y_test, predictions)\n",
    "    accuracy_scores[max_depth] = accuracy\n",
    "    \n",
    "    # Trực quan hóa cây quyết định\n",
    "    print(f\"Decision Tree with max_depth={max_depth}\")\n",
    "    dot_data = export_graphviz(\n",
    "        model,\n",
    "        out_file=None,\n",
    "        feature_names=X_train.columns,\n",
    "        class_names=encoder.classes_,\n",
    "        filled=True,\n",
    "        rounded=True,\n",
    "        special_characters=True\n",
    "    )\n",
    "    graph = graphviz.Source(dot_data)\n",
    "    path = f\"{dir_path}/max_depth_{'None' if max_depth is None else max_depth}/graph\"\n",
    "    graph.render(path, format=\"pdf\")\n",
    "    print(f\"- Saved tree visualization for {path}.pdf\")\n",
    "    print(\"------------------------------------------\\n\")\n"
   ]
  },
  {
   "cell_type": "markdown",
   "metadata": {},
   "source": [
    "- Hiển thị bảng kết quả"
   ]
  },
  {
   "cell_type": "code",
   "execution_count": null,
   "metadata": {},
   "outputs": [],
   "source": [
    "print(\"max_depth\\tAccuracy\")\n",
    "for max_depth, accuracy in accuracy_scores.items():\n",
    "    print(f\"{'None' if max_depth is None else max_depth}\\t\\t{accuracy:.6f}\")"
   ]
  },
  {
   "cell_type": "markdown",
   "metadata": {},
   "source": [
    "- Vẽ biểu đồ độ chính xác"
   ]
  },
  {
   "cell_type": "code",
   "execution_count": null,
   "metadata": {},
   "outputs": [],
   "source": [
    "depth_labels = ['None' if d is None else d for d in max_depth_values]\n",
    "accuracy_values = list(accuracy_scores.values())\n",
    "\n",
    "plt.figure(figsize=(10, 6))\n",
    "plt.plot(depth_labels, accuracy_values, marker='o', linestyle='-', color='b')\n",
    "plt.title(\"Accuracy vs max_depth\")\n",
    "plt.xlabel(\"max_depth\")\n",
    "plt.ylabel(\"Accuracy\")\n",
    "plt.grid(True)\n",
    "for i, txt in enumerate(accuracy_values):\n",
    "    plt.text(i, accuracy_values[i], f\"{accuracy_values[i]:.6f}\", fontsize=6, ha='center')\n",
    "\n",
    "plt.show()"
   ]
  }
 ],
 "metadata": {
  "kernelspec": {
   "display_name": "Python 3",
   "language": "python",
   "name": "python3"
  },
  "language_info": {
   "codemirror_mode": {
    "name": "ipython",
    "version": 3
   },
   "file_extension": ".py",
   "mimetype": "text/x-python",
   "name": "python",
   "nbconvert_exporter": "python",
   "pygments_lexer": "ipython3",
   "version": "3.11.9"
  }
 },
 "nbformat": 4,
 "nbformat_minor": 2
}
